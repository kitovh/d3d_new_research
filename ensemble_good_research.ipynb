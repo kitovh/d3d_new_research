{
 "cells": [
  {
   "cell_type": "markdown",
   "id": "5b5e05ee",
   "metadata": {},
   "source": [
    "## Imports"
   ]
  },
  {
   "cell_type": "code",
   "execution_count": 2,
   "id": "39e007d0",
   "metadata": {},
   "outputs": [],
   "source": [
    "from scipy.cluster import hierarchy as hc\n",
    "from scipy.stats.mstats import winsorize\n",
    "from scipy.interpolate import interp1d\n",
    "from sklearn import linear_model\n",
    "import matplotlib.pyplot as plt\n",
    "import scipy.sparse as sparse\n",
    "from random import sample\n",
    "import networkx as nx\n",
    "from tqdm import tqdm\n",
    "import pandas as pd\n",
    "import seaborn as sns\n",
    "import numpy as np\n",
    "import matplotlib\n",
    "import functions\n",
    "import scipy.io\n",
    "\n",
    "matplotlib.rcParams['figure.figsize'] = (20, 20);"
   ]
  },
  {
   "cell_type": "markdown",
   "id": "c270d7ec",
   "metadata": {},
   "source": [
    "## Data"
   ]
  },
  {
   "cell_type": "code",
   "execution_count": 2,
   "id": "5339f28c",
   "metadata": {},
   "outputs": [],
   "source": [
    "mat, data = functions.load_and_filter_data('/Users/kitovh/Documents/Research/PlasmaResearch/\\\n",
    "Cristina_Group/DIII_D_data/d3d-db-220420.mat', Filter=True)\n",
    "\n",
    "data = data[data.isna().apply(all)[data.isna().apply(all) == False].index]\n",
    "data['intentional_disruption'] = data['intentional_disruption'].fillna(-1)"
   ]
  },
  {
   "cell_type": "code",
   "execution_count": 3,
   "id": "cbb5e78d",
   "metadata": {},
   "outputs": [
    {
     "name": "stdout",
     "output_type": "stream",
     "text": [
      "227.86681766704416\n"
     ]
    }
   ],
   "source": [
    "\"\"\"\n",
    "Filter for longer lasting shots\n",
    "\"\"\"\n",
    "counts = data.groupby('shot')['time'].count()\n",
    "print(counts.mean())\n",
    "shots = counts[counts >= counts.mean()]\n",
    "data = data[data.shot.isin(shots.index)]"
   ]
  },
  {
   "cell_type": "code",
   "execution_count": 4,
   "id": "9d5ecb5b",
   "metadata": {},
   "outputs": [
    {
     "name": "stderr",
     "output_type": "stream",
     "text": [
      "100%|██████████| 7991/7991 [00:33<00:00, 235.73it/s]\n"
     ]
    }
   ],
   "source": [
    "\"\"\"\n",
    "Filter for shots with positive IP \n",
    "\"\"\"\n",
    "bad_shots = []\n",
    "shots = []\n",
    "for shot in tqdm(data.shot.unique()):\n",
    "    mean = data[data.shot == shot]['ip'].mean()\n",
    "    mini = data[data.shot == shot]['ip'].values[-1]\n",
    "    \n",
    "    if mini > mean:\n",
    "        bad_shots.append(shot)\n",
    "    else:\n",
    "        shots.append(shot)\n",
    "\n",
    "data = data[data.shot.isin(shots)]"
   ]
  },
  {
   "cell_type": "code",
   "execution_count": 5,
   "id": "409a0607",
   "metadata": {},
   "outputs": [],
   "source": [
    "\"\"\"\n",
    "Filter features based on shot coverage\n",
    "\"\"\"\n",
    "coverage = 100 * data.groupby('shot').apply(lambda x: x.count() / x.shape[0])\n",
    "coverage = coverage.mean()\n",
    "coverage = coverage[coverage >= 90]\n",
    "\n",
    "if 'time_until_disrupt' not in coverage.index:\n",
    "    columns = ['time_until_disrupt'] + list(coverage.index)\n",
    "    \n",
    "data = data[columns]"
   ]
  },
  {
   "cell_type": "code",
   "execution_count": 6,
   "id": "977cbf40",
   "metadata": {},
   "outputs": [
    {
     "name": "stderr",
     "output_type": "stream",
     "text": [
      "100%|██████████| 7623/7623 [00:36<00:00, 206.86it/s]\n"
     ]
    }
   ],
   "source": [
    "\"\"\"\n",
    "Filter shots based on feature coverage\n",
    "\"\"\"\n",
    "shots = []\n",
    "for shot in tqdm(data.shot.unique()):\n",
    "    shot_data = data[data.shot == shot].copy()\n",
    "    shot_data_columns = [a for a in shot_data.columns if \n",
    "                          (a != 'intentional_disruption')\n",
    "                        & (a != 'time_until_disrupt')]\n",
    "    \n",
    "    shot_data = shot_data[shot_data_columns]\n",
    "    shot_coverage = 100 * (shot_data.count() / shot_data.shape[0])\n",
    "\n",
    "    if np.mean(shot_coverage) > 90:\n",
    "        shots.append(shot)\n",
    "data = data[data.shot.isin(shots)]"
   ]
  },
  {
   "cell_type": "code",
   "execution_count": 7,
   "id": "01a34a69",
   "metadata": {},
   "outputs": [
    {
     "name": "stderr",
     "output_type": "stream",
     "text": [
      "100%|██████████| 7112/7112 [00:24<00:00, 292.27it/s]\n"
     ]
    }
   ],
   "source": [
    "\"\"\"\n",
    "Remove Ramp-up Phase of shots\n",
    "\"\"\"\n",
    "filtered_data = []\n",
    "for shot in tqdm(data.shot.unique()):\n",
    "    df = data[data.shot == shot]\n",
    "    df = df.reset_index(drop=True)\n",
    "\n",
    "    mode_value = df['dipprog_dt'].mode().values[0]\n",
    "\n",
    "    if df[df['dipprog_dt'] == mode_value].index[0] / df.index.max() <= 0.75:\n",
    "        df = df[df[df['dipprog_dt'] == mode_value].index[0]:]\n",
    "        filtered_data.append(df)\n",
    "\n",
    "data = pd.concat(filtered_data)\n",
    "data.reset_index(inplace=True, drop=True)"
   ]
  },
  {
   "cell_type": "code",
   "execution_count": 8,
   "id": "73792c92",
   "metadata": {},
   "outputs": [
    {
     "name": "stderr",
     "output_type": "stream",
     "text": [
      "100%|██████████| 6982/6982 [04:12<00:00, 27.63it/s]\n"
     ]
    }
   ],
   "source": [
    "\"\"\"\n",
    "Filter shots that have high variation in Delta IP \n",
    "- This is because some shots just look like inverted triangles (no/little flattop) and are pointless to keep\n",
    "\"\"\"\n",
    "\n",
    "bad_shots = []\n",
    "shots = []\n",
    "for i in tqdm(range(len(data.shot.unique()))):\n",
    "    df = data[data.shot == data.shot.unique()[i]]\n",
    "    df.reset_index(drop=True, inplace=True)\n",
    "    \n",
    "    if np.abs(df['dipprog_dt']).min() < 1000:\n",
    "        shots.append(data.shot.unique()[i])\n",
    "    else:\n",
    "        bad_shots.append(data.shot.unique()[i])\n",
    "data = data[data.shot.isin(shots)]"
   ]
  },
  {
   "cell_type": "code",
   "execution_count": 9,
   "id": "8ecf84b0",
   "metadata": {},
   "outputs": [],
   "source": [
    "\"\"\"\n",
    "Remove shots with programmed ramp down \n",
    "\"\"\"\n",
    "activate = False\n",
    "if activate == True:\n",
    "    bad_shots = []\n",
    "    shots = []\n",
    "    for shot in tqdm(data.shot.unique()):\n",
    "        df = data[data.shot == shot]\n",
    "        counts = (df['dipprog_dt'] < 0).value_counts()\n",
    "        counts = counts / counts.sum()\n",
    "\n",
    "        if True in counts.index:\n",
    "            bad_shots.append(shot)\n",
    "        else:\n",
    "            shots.append(shot)"
   ]
  },
  {
   "cell_type": "code",
   "execution_count": 10,
   "id": "6e06a303",
   "metadata": {},
   "outputs": [],
   "source": [
    "comparison = data[['shot', 'time_until_disrupt']]\n",
    "comparison = comparison.groupby('shot').min()\n",
    "comparison['variable'] = ['disrupt' if a == 0 else 'no_disrupt' for a in comparison['time_until_disrupt']]\n",
    "comparison = comparison['variable'].reset_index()\n",
    "comparison = comparison[comparison.shot.isin(data.shot.unique())]"
   ]
  },
  {
   "cell_type": "code",
   "execution_count": 11,
   "id": "44bd9065",
   "metadata": {},
   "outputs": [],
   "source": [
    "# cols = [a for a in data if (a != 'time') & (a != 'shot') & (a != 'time_until_disrupt')]\n",
    "# data[cols] = (data[cols] - data[cols].mean()) / data[cols].std()"
   ]
  },
  {
   "cell_type": "code",
   "execution_count": 12,
   "id": "8cc0f408",
   "metadata": {
    "scrolled": false
   },
   "outputs": [],
   "source": [
    "# matplotlib.rcParams['figure.figsize'] = (20, 50);\n",
    "\n",
    "# shot_number = comparison[comparison.variable == 'disrupt'].shot.unique()[0]\n",
    "# fig, axs = plt.subplots(len(data.columns))\n",
    "# for i in range(len(data.columns)): \n",
    "#     axs[i].plot(data[data.shot == shot_number][data.columns[i]])\n",
    "#     axs[i].set_title(data.columns[i])\n",
    "# plt.show()"
   ]
  },
  {
   "cell_type": "code",
   "execution_count": 13,
   "id": "3fb9a9cd",
   "metadata": {},
   "outputs": [],
   "source": [
    "# fig = plt.figure(figsize = (15, 20))\n",
    "# ax = fig.gca()\n",
    "# data.hist(ax=ax);"
   ]
  },
  {
   "cell_type": "code",
   "execution_count": 108,
   "id": "82bb0692",
   "metadata": {},
   "outputs": [],
   "source": [
    "training_non_disrupt = sample(list(comparison[comparison['variable'] == 'no_disrupt']['shot'].values), 300)\n",
    "training_disrupt = sample(list(comparison[comparison['variable'] == 'disrupt']['shot'].values), 350)\n",
    "\n",
    "training_data = data[data.shot.isin(training_non_disrupt) | data.shot.isin(training_disrupt)]"
   ]
  },
  {
   "cell_type": "code",
   "execution_count": 111,
   "id": "a93accef",
   "metadata": {},
   "outputs": [],
   "source": [
    "testing_values = comparison[~comparison.shot.isin(training_data.shot.unique())]\n",
    "\n",
    "testing_non_disrupt = sample(list(testing_values[testing_values['variable'] == 'no_disrupt']['shot'].values), 10)\n",
    "testing_disrupt = sample(list(testing_values[testing_values['variable'] == 'disrupt']['shot'].values), 10)\n",
    "\n",
    "testing_data = data[data.shot.isin(testing_non_disrupt) | data.shot.isin(testing_disrupt)]"
   ]
  },
  {
   "cell_type": "code",
   "execution_count": 112,
   "id": "785189ca",
   "metadata": {},
   "outputs": [],
   "source": [
    "# plt.plot(training_data[training_data.shot == training_data.shot.unique()[0]]['ip'].values)\n",
    "# plt.plot(training_data[training_data.shot == training_data.shot.unique()[1]]['ip'].values)\n",
    "# plt.plot(training_data[training_data.shot == training_data.shot.unique()[2]]['ip'].values)\n",
    "# plt.plot(training_data[training_data.shot == training_data.shot.unique()[3]]['ip'].values)\n",
    "# plt.plot(training_data[training_data.shot == training_data.shot.unique()[4]]['ip'].values)\n",
    "# plt.plot(training_data[training_data.shot == training_data.shot.unique()[5]]['ip'].values)\n",
    "# plt.plot(training_data[training_data.shot == training_data.shot.unique()[6]]['ip'].values)"
   ]
  },
  {
   "cell_type": "code",
   "execution_count": 113,
   "id": "f1505870",
   "metadata": {},
   "outputs": [],
   "source": [
    "shot_numbers = training_non_disrupt + training_disrupt + testing_non_disrupt + testing_disrupt\n"
   ]
  },
  {
   "cell_type": "code",
   "execution_count": 115,
   "id": "b8daad77",
   "metadata": {},
   "outputs": [
    {
     "name": "stderr",
     "output_type": "stream",
     "text": [
      "100%|██████████| 670/670 [00:27<00:00, 24.71it/s]\n"
     ]
    }
   ],
   "source": [
    "shot_numbers = training_non_disrupt + training_disrupt + testing_non_disrupt + testing_disrupt\n",
    "\n",
    "training_interpolated_data = []\n",
    "testing_interpolated_data = []\n",
    "\n",
    "for shot in tqdm(shot_numbers):\n",
    "    shot_data_backup = data[data['shot'] == shot]\n",
    "\n",
    "    granularity = 0.0001\n",
    "    x = np.arange(shot_data_backup['time'].min(), shot_data_backup['time'].max(), step=granularity)\n",
    "    x = x[x <= shot_data_backup['time'].max()]\n",
    "\n",
    "    features = [a for a in data.columns if \n",
    "                 (a != 'shot') & (a != 'time')\n",
    "               & (a != 'time_until_disrupt') & (a != 'other_hardware_failure')\n",
    "               & (a != 'power_supply_railed') & (a != 'intentional_disruption')]\n",
    "\n",
    "    interpolated = pd.DataFrame({'time':x})\n",
    "    for feature in features:\n",
    "        f1 = interp1d(shot_data_backup['time'], shot_data_backup[feature])\n",
    "        interpolated[feature] = f1(x)\n",
    "\n",
    "    interpolated = interpolated.rename(columns={'ip':'interpolated_ip'})\n",
    "    interpolated['shot'] = shot\n",
    "    \n",
    "    if shot in training_data.shot.unique():\n",
    "        training_interpolated_data.append(interpolated)\n",
    "        \n",
    "    elif shot in testing_data.shot.unique():\n",
    "        testing_interpolated_data.append(interpolated)"
   ]
  },
  {
   "cell_type": "code",
   "execution_count": 116,
   "id": "29f71db0",
   "metadata": {},
   "outputs": [
    {
     "name": "stdout",
     "output_type": "stream",
     "text": [
      "400.0\n"
     ]
    }
   ],
   "source": [
    "offset = 0.04 / 0.0001\n",
    "print(offset)"
   ]
  },
  {
   "cell_type": "code",
   "execution_count": 118,
   "id": "409cf612",
   "metadata": {},
   "outputs": [],
   "source": [
    "training_data = pd.concat(training_interpolated_data)\n",
    "testing_data = pd.concat(testing_interpolated_data)"
   ]
  },
  {
   "cell_type": "code",
   "execution_count": 119,
   "id": "74ca1ab6",
   "metadata": {},
   "outputs": [],
   "source": [
    "coverage_percent = (training_data.isna().sum() / training_data.shape[0]) * 100\n",
    "coverage_percent = coverage_percent[coverage_percent <= 5]"
   ]
  },
  {
   "cell_type": "code",
   "execution_count": 121,
   "id": "bd1a0af2",
   "metadata": {},
   "outputs": [],
   "source": [
    "training_data = training_data[coverage_percent.index]\n",
    "testing_data = testing_data[coverage_percent.index]"
   ]
  },
  {
   "cell_type": "code",
   "execution_count": 125,
   "id": "d9219582",
   "metadata": {},
   "outputs": [],
   "source": [
    "training_data.set_index('shot', inplace=True)\n",
    "testing_data.set_index('shot', inplace=True)"
   ]
  },
  {
   "cell_type": "code",
   "execution_count": 127,
   "id": "1b49fcca",
   "metadata": {},
   "outputs": [],
   "source": [
    "returned_training_data = []\n",
    "for shot in training_data.index.unique():\n",
    "    returned_training_data.append(\n",
    "        training_data[training_data.index == shot].fillna(method='ffill')\n",
    "    )\n",
    "    \n",
    "returned_testing_data = []\n",
    "for shot in testing_data.index.unique():\n",
    "    returned_testing_data.append(\n",
    "        testing_data[testing_data.index == shot].fillna(method='ffill')\n",
    "    )"
   ]
  },
  {
   "cell_type": "code",
   "execution_count": 132,
   "id": "f0d631f0",
   "metadata": {},
   "outputs": [],
   "source": [
    "training_data = pd.concat(returned_training_data)\n",
    "testing_data = pd.concat(returned_testing_data)"
   ]
  },
  {
   "cell_type": "code",
   "execution_count": 133,
   "id": "ed018a7e",
   "metadata": {},
   "outputs": [],
   "source": [
    "training_data.reset_index(inplace=True)\n",
    "testing_data.reset_index(inplace=True)"
   ]
  },
  {
   "cell_type": "code",
   "execution_count": 164,
   "id": "772176f7",
   "metadata": {},
   "outputs": [],
   "source": [
    "training_data.dropna(inplace=True)\n",
    "testing_data.dropna(inplace=True)"
   ]
  },
  {
   "cell_type": "code",
   "execution_count": 165,
   "id": "15906208",
   "metadata": {},
   "outputs": [],
   "source": [
    "cols = [a for a in training_data if (a != 'time') & (a != 'shot')]\n",
    "cols = [\n",
    "    'Greenwald_fraction_RT',\n",
    "    'Te_HWHM',\n",
    "    'Wmhd_RT',\n",
    "    'dipprog_dt_RT',\n",
    "    'interpolated_ip',\n",
    "    'ip_error_RT',\n",
    "    'ip_prog',\n",
    "    'kappa_area',\n",
    "    'n_e_RT',\n",
    "    'n_equal_1_normalized',\n",
    "    'p_rad',\n",
    "    'radiated_fraction',\n",
    "    'v_loop',\n",
    "    'zcur']\n",
    "cols = list(set(cols).intersection(training_data.columns))\n",
    "cols.sort()"
   ]
  },
  {
   "cell_type": "code",
   "execution_count": 167,
   "id": "dc4a5d08",
   "metadata": {
    "scrolled": true
   },
   "outputs": [],
   "source": [
    "testing_data[cols] = (testing_data[cols] - training_data[cols].mean()) / training_data[cols].std()\n",
    "training_data[cols] = (training_data[cols] - training_data[cols].mean()) / training_data[cols].std()"
   ]
  },
  {
   "cell_type": "code",
   "execution_count": 168,
   "id": "407500b2",
   "metadata": {},
   "outputs": [],
   "source": [
    "training_data = training_data[['shot', 'time'] + cols]\n",
    "testing_data = testing_data[['shot', 'time'] + cols]"
   ]
  },
  {
   "cell_type": "code",
   "execution_count": 169,
   "id": "b718dc39",
   "metadata": {},
   "outputs": [
    {
     "name": "stderr",
     "output_type": "stream",
     "text": [
      "<ipython-input-169-3ea2ffd52685>:1: SettingWithCopyWarning: \n",
      "A value is trying to be set on a copy of a slice from a DataFrame.\n",
      "Try using .loc[row_indexer,col_indexer] = value instead\n",
      "\n",
      "See the caveats in the documentation: https://pandas.pydata.org/pandas-docs/stable/user_guide/indexing.html#returning-a-view-versus-a-copy\n",
      "  training_data['time'] = training_data.groupby('shot')['time'].apply(lambda x: x - x.values[0])\n"
     ]
    }
   ],
   "source": [
    "training_data['time'] = training_data.groupby('shot')['time'].apply(lambda x: x - x.values[0])\n",
    "testing_data['time'] = testing_data.groupby('shot')['time'].apply(lambda x: x - x.values[0])"
   ]
  },
  {
   "cell_type": "code",
   "execution_count": 170,
   "id": "4bdb49f7",
   "metadata": {
    "scrolled": false
   },
   "outputs": [],
   "source": [
    "# matplotlib.rcParams['figure.figsize'] = (20, 50);\n",
    "\n",
    "# shot_number = training_disrupt[0]\n",
    "# fig, axs = plt.subplots(len(training_data.columns))\n",
    "# for i in range(len(training_data.columns)): \n",
    "#     axs[i].plot(training_data[training_data.shot == shot_number][training_data.columns[i]])\n",
    "#     axs[i].set_title(training_data.columns[i])\n",
    "# plt.show()"
   ]
  },
  {
   "cell_type": "code",
   "execution_count": 171,
   "id": "261607d0",
   "metadata": {},
   "outputs": [],
   "source": [
    "# training_data = training_data.set_index('shot')\n",
    "# training_data = training_data.groupby('shot').shift(-40)\n",
    "# training_data.reset_index(inplace=True)"
   ]
  },
  {
   "cell_type": "code",
   "execution_count": 172,
   "id": "a8733994",
   "metadata": {},
   "outputs": [],
   "source": [
    "training_data = training_data.set_index('shot')\n",
    "testing_data = testing_data.set_index('shot')"
   ]
  },
  {
   "cell_type": "code",
   "execution_count": 173,
   "id": "65814aa5",
   "metadata": {},
   "outputs": [],
   "source": [
    "# training_data.reset_index(inplace=True)\n",
    "# testing_data.reset_index(inplace=True)"
   ]
  },
  {
   "cell_type": "code",
   "execution_count": 174,
   "id": "77a19f3c",
   "metadata": {},
   "outputs": [],
   "source": [
    "training_data.index = training_data.index / 100000\n",
    "testing_data.index = testing_data.index / 100000"
   ]
  },
  {
   "cell_type": "code",
   "execution_count": 175,
   "id": "41b3eac0",
   "metadata": {},
   "outputs": [],
   "source": [
    "input_columns = ['time'] + cols\n",
    "output_columns = ['interpolated_ip', 'ip_error_RT']"
   ]
  },
  {
   "cell_type": "code",
   "execution_count": 176,
   "id": "b7b4a484",
   "metadata": {},
   "outputs": [],
   "source": [
    "training_input = training_data[input_columns].groupby('shot').shift(offset)\n",
    "training_input.reset_index(inplace=True)\n",
    "\n",
    "training_output = training_data[output_columns].groupby('shot').shift(-offset)\n",
    "training_output.reset_index(inplace=True)"
   ]
  },
  {
   "cell_type": "code",
   "execution_count": null,
   "id": "ee99f4c7",
   "metadata": {},
   "outputs": [],
   "source": [
    "training_input.dropna(inplace=True)\n",
    "training_output.dropna(inplace=True)"
   ]
  },
  {
   "cell_type": "code",
   "execution_count": null,
   "id": "6615133f",
   "metadata": {},
   "outputs": [],
   "source": [
    "testing_input = testing_data[input_columns].groupby('shot').shift(offset)\n",
    "testing_input.reset_index(inplace=True)\n",
    "\n",
    "testing_output = testing_data[output_columns].groupby('shot').shift(-offset)\n",
    "testing_output.reset_index(inplace=True)"
   ]
  },
  {
   "cell_type": "code",
   "execution_count": null,
   "id": "449e16ae",
   "metadata": {},
   "outputs": [],
   "source": [
    "testing_input.dropna(inplace=True)\n",
    "testing_output.dropna(inplace=True)"
   ]
  },
  {
   "cell_type": "code",
   "execution_count": 41,
   "id": "56299cc3",
   "metadata": {},
   "outputs": [],
   "source": [
    "training_input = training_input[['shot'] + cols].values\n",
    "training_output = training_output.values\n",
    "\n",
    "testing_input = testing_input[['shot'] + cols].values\n",
    "testing_output = testing_output.values"
   ]
  },
  {
   "cell_type": "code",
   "execution_count": 42,
   "id": "815b3523",
   "metadata": {},
   "outputs": [],
   "source": [
    "tmp = training_data.copy()\n",
    "tmp['index'] = np.arange(0, tmp.shape[0])\n",
    "tmp['shot'] = tmp.index\n",
    "\n",
    "training_indices = tmp[['shot', 'index']]\n",
    "training_indices.reset_index(drop=True, inplace=True)\n",
    "training_indices = training_indices.groupby('shot').index.max().values\n",
    "training_indices = np.insert(training_indices, 0, 0)"
   ]
  },
  {
   "cell_type": "code",
   "execution_count": 43,
   "id": "c5de8ceb",
   "metadata": {},
   "outputs": [],
   "source": [
    "tmp = testing_data.copy()\n",
    "tmp['index'] = np.arange(0, tmp.shape[0])\n",
    "tmp['shot'] = tmp.index\n",
    "\n",
    "testing_indices = tmp[['shot', 'index']]\n",
    "testing_indices.reset_index(drop=True, inplace=True)\n",
    "testing_indices = testing_indices.groupby('shot').index.max().values\n",
    "testing_indices = np.insert(testing_indices, 0, 0)"
   ]
  },
  {
   "cell_type": "markdown",
   "id": "cb668539",
   "metadata": {},
   "source": [
    "## Reservoir"
   ]
  },
  {
   "cell_type": "code",
   "execution_count": 44,
   "id": "ca76789f",
   "metadata": {},
   "outputs": [],
   "source": [
    "def _update_state(A, W_in, state, inputs):\n",
    "    \"\"\"\n",
    "    Computes the next network states by applying the recurrent weights\n",
    "    to the last state & and feeding in the current input patterns\n",
    "    Following r(t+1) = tanh{A * r(t) + W_in * u(t)}\n",
    "        \n",
    "    Args:\n",
    "    ----\n",
    "        state: The preview states.\n",
    "        input_pattern: Next Intputs\n",
    "    \"\"\"\n",
    "    \n",
    "    preactivation = (np.dot(A, state) + np.dot(W_in, inputs))\n",
    "    NextState = np.tanh(preactivation)  \n",
    "    \n",
    "    return(NextState)"
   ]
  },
  {
   "cell_type": "code",
   "execution_count": 46,
   "id": "13e3b085",
   "metadata": {},
   "outputs": [
    {
     "name": "stdout",
     "output_type": "stream",
     "text": [
      "W Standard Deviation: 0.2963465197751988\n",
      "A Standard deviation: 0.011989522554357283\n",
      "Mean Degree: 4.0\n",
      "Max Eigenval: 0.09999999999999981\n"
     ]
    }
   ],
   "source": [
    "ReservoirSize = 50\n",
    "AdjacentMatrixRadius = 0.1\n",
    "Seed = 1\n",
    "\n",
    "np.random.seed(1234567)\n",
    "W = np.random.normal(scale=1, size=(ReservoirSize, ReservoirSize))\n",
    "OriginalW = W.copy()\n",
    "\n",
    "# G = nx.fast_gnp_random_graph(ReservoirSize, \n",
    "#                              0.01, \n",
    "#                              seed=12345)\n",
    "G = nx.watts_strogatz_graph(n=ReservoirSize,\n",
    "                            k=5, p=0.1, seed=12345)\n",
    "W = np.asarray([a * b for a, b in zip(W, nx.adjacency_matrix(G).toarray())])\n",
    "\n",
    "print(\"W Standard Deviation:\", np.std(W))\n",
    "radius = np.max(np.abs(np.linalg.eigvals(W)))\n",
    "A = W.copy()\n",
    "A = A * AdjacentMatrixRadius / radius\n",
    "print('A Standard deviation:', np.std(A))\n",
    "\n",
    "values = []\n",
    "for i in range(len(G.degree)):\n",
    "    values.append(G.degree[i])\n",
    "print(\"Mean Degree:\", np.mean(values))\n",
    "print(\"Max Eigenval:\", np.max(np.abs(np.linalg.eigvals(A))))"
   ]
  },
  {
   "cell_type": "code",
   "execution_count": 1,
   "id": "a7281852",
   "metadata": {},
   "outputs": [],
   "source": [
    "# nx.draw(G)"
   ]
  },
  {
   "cell_type": "code",
   "execution_count": 2,
   "id": "e11bd1db",
   "metadata": {
    "scrolled": false
   },
   "outputs": [],
   "source": [
    "# matplotlib.rcParams['figure.figsize'] = (20, 10)\n",
    "# plt.plot(A, 'o');"
   ]
  },
  {
   "cell_type": "code",
   "execution_count": 49,
   "id": "b9f4432d",
   "metadata": {},
   "outputs": [
    {
     "name": "stderr",
     "output_type": "stream",
     "text": [
      "100%|██████████| 31090940/31090940 [05:28<00:00, 94670.45it/s] \n"
     ]
    }
   ],
   "source": [
    "# Initialize for states evolution\n",
    "np.random.seed(12345)\n",
    "W_in = np.random.normal(scale=0.01, size=(ReservoirSize, training_input.shape[1]-1))\n",
    "r_matrix = np.zeros((training_input.shape[0], ReservoirSize))\n",
    "\n",
    "# Evolve states matrix r. \n",
    "for t in tqdm(range(1, training_input.shape[0])):\n",
    "    r_matrix[t, :] = _update_state(\n",
    "        A=A, \n",
    "        W_in=W_in, \n",
    "        state=r_matrix[(t)], \n",
    "        inputs=training_input[(t-1), 1:]\n",
    "    )"
   ]
  },
  {
   "cell_type": "code",
   "execution_count": 50,
   "id": "b1743d06",
   "metadata": {},
   "outputs": [],
   "source": [
    "# plt.plot(r_matrix[:100000, 0])\n",
    "# plt.plot(r_matrix[100000:200000, 0]);"
   ]
  },
  {
   "cell_type": "code",
   "execution_count": 51,
   "id": "190327f2",
   "metadata": {},
   "outputs": [],
   "source": [
    "from sklearn.ensemble import RandomForestRegressor\n",
    "from sklearn.svm import SVR\n",
    "from sklearn.multioutput import MultiOutputRegressor\n",
    "from sklearn.metrics import mean_squared_error"
   ]
  },
  {
   "cell_type": "code",
   "execution_count": 52,
   "id": "661811b5",
   "metadata": {
    "scrolled": true
   },
   "outputs": [
    {
     "data": {
      "text/plain": [
       "628"
      ]
     },
     "execution_count": 52,
     "metadata": {},
     "output_type": "execute_result"
    }
   ],
   "source": [
    "df = pd.DataFrame(training_input)\n",
    "df = df.rename(columns={df.columns[0]:'shot'})\n",
    "df['index'] = np.arange(0, df.shape[0])\n",
    "\n",
    "indices_end = df.groupby('shot')['index'].last().values\n",
    "indices_start = df.groupby('shot')['index'].first().values\n",
    "len(indices_start)"
   ]
  },
  {
   "cell_type": "code",
   "execution_count": 1015,
   "id": "5ffd92fc",
   "metadata": {},
   "outputs": [
    {
     "name": "stderr",
     "output_type": "stream",
     "text": [
      "100%|██████████| 247/247 [00:20<00:00, 11.80it/s]\n"
     ]
    }
   ],
   "source": [
    "all_models = []\n",
    "predictions = []\n",
    "accuracy = [] \n",
    "true_values = []\n",
    "\n",
    "for i in tqdm(range(0, len(indices_start))):\n",
    "    start = indices_start[i] + 1\n",
    "    end = indices_end[i] + 1\n",
    "\n",
    "    model = linear_model.Ridge(alpha=0.1)\n",
    "    model.fit(\n",
    "        X=r_matrix[start:end],\n",
    "        y=training_output[start:end, 1:]\n",
    "    )\n",
    "    all_models.append(model)\n",
    "\n",
    "    prediction = model.predict(\n",
    "        r_matrix[start:end]\n",
    "    )\n",
    "    predictions.append(prediction)\n",
    "\n",
    "    true_values.append(\n",
    "        training_output[start:end, 1:]\n",
    "    )\n",
    "\n",
    "    accuracy.append(\n",
    "        mean_squared_error(\n",
    "            y_true=training_output[start:end, 1:], \n",
    "            y_pred=prediction\n",
    "        )\n",
    "    )"
   ]
  },
  {
   "cell_type": "code",
   "execution_count": 1016,
   "id": "5860a61b",
   "metadata": {},
   "outputs": [],
   "source": [
    "# cols = ['time'] + cols"
   ]
  },
  {
   "cell_type": "code",
   "execution_count": 4,
   "id": "82745c95",
   "metadata": {
    "scrolled": false
   },
   "outputs": [],
   "source": [
    "# m = 1\n",
    "# for i in range(predictions[m].shape[1]):\n",
    "#     plt.plot(predictions[m][:, i], label='pred')\n",
    "#     plt.plot(true_values[m][:, i], label='true', alpha=0.5)\n",
    "#     plt.legend()\n",
    "#     plt.title(['ip'])\n",
    "#     plt.show();"
   ]
  },
  {
   "cell_type": "code",
   "execution_count": 1018,
   "id": "1002f5a1",
   "metadata": {},
   "outputs": [
    {
     "name": "stdout",
     "output_type": "stream",
     "text": [
      "mean:  0.011889189298322203\n",
      "median:  0.007216005169737494\n",
      "std:  0.017547540878806413\n"
     ]
    }
   ],
   "source": [
    "print('mean: ', np.mean(accuracy))\n",
    "print('median: ', np.median(accuracy))\n",
    "print('std: ', np.std(accuracy))"
   ]
  },
  {
   "cell_type": "code",
   "execution_count": 3,
   "id": "c3777036",
   "metadata": {},
   "outputs": [],
   "source": [
    "# plt.hist(accuracy, bins=100);"
   ]
  },
  {
   "cell_type": "code",
   "execution_count": 1020,
   "id": "a56f477a",
   "metadata": {},
   "outputs": [],
   "source": [
    "from sklearn.metrics import mean_squared_error"
   ]
  },
  {
   "cell_type": "code",
   "execution_count": 1021,
   "id": "48f14cc1",
   "metadata": {},
   "outputs": [],
   "source": [
    "df = pd.DataFrame(testing_input)\n",
    "df = df.rename(columns={df.columns[0]:'shot'})\n",
    "df['shot'] = df['shot'] * 100000\n",
    "df['shot'] = df['shot'].astype(int)\n",
    "df['index'] = np.arange(0, df.shape[0])\n",
    "\n",
    "indices_end = df.groupby('shot')['index'].last().values\n",
    "indices_start = df.groupby('shot')['index'].first().values\n",
    "\n",
    "indices_start.sort()\n",
    "indices_end.sort()"
   ]
  },
  {
   "cell_type": "code",
   "execution_count": 1022,
   "id": "c1b7e0cd",
   "metadata": {},
   "outputs": [],
   "source": [
    "# indices_start = np.asarray(indices_start[:1].tolist() + indices_start[-1:].tolist())\n",
    "# indices_end = np.asarray(indices_end[:1].tolist() + indices_end[-1:].tolist())"
   ]
  },
  {
   "cell_type": "code",
   "execution_count": 1023,
   "id": "7b936726",
   "metadata": {},
   "outputs": [],
   "source": [
    "# indices_start = indices_start[-3:]\n",
    "# indices_end = indices_end[-3:]"
   ]
  },
  {
   "cell_type": "code",
   "execution_count": 1024,
   "id": "2eafc356",
   "metadata": {},
   "outputs": [],
   "source": [
    "# indices_start = indices_start[-5:]\n",
    "# indices_end = indices_end[-5:]"
   ]
  },
  {
   "cell_type": "code",
   "execution_count": 1025,
   "id": "26e08620",
   "metadata": {},
   "outputs": [],
   "source": [
    "# indices_start = [indices_start[0], indices_start[-2], indices_start[-1]]\n",
    "# indices_end = [indices_end[0], indices_end[-2], indices_end[-1]]"
   ]
  },
  {
   "cell_type": "code",
   "execution_count": 1026,
   "id": "1cbc01b0",
   "metadata": {},
   "outputs": [
    {
     "name": "stderr",
     "output_type": "stream",
     "text": [
      "100%|██████████| 20/20 [02:11<00:00,  6.57s/it]\n"
     ]
    }
   ],
   "source": [
    "disrupt_errors = []\n",
    "disrupt_predictions = []\n",
    "disrupt_true_values = []\n",
    "\n",
    "non_disrupt_errors = []\n",
    "non_disrupt_predictions = []\n",
    "non_disrupt_true_values = []\n",
    "\n",
    "for s in tqdm(range(len(indices_start))):\n",
    "    start = indices_start[s] + 1\n",
    "    end = indices_end[s] + 1\n",
    "\n",
    "    shot_number = df[start:end]['shot'].unique()\n",
    "    assert len(shot_number) == 1, f\"shots are not unique for s={s}\"\n",
    "\n",
    "    x = r_matrix[-1]\n",
    "\n",
    "    states = []\n",
    "#     data = testing_input[start:end, 1:]\n",
    "    for i in data:\n",
    "        x = _update_state(\n",
    "            A=A,\n",
    "            W_in=W_in,\n",
    "            state=x,\n",
    "            inputs=i\n",
    "        )\n",
    "        states.append(x)\n",
    "\n",
    "    model_predictions = []\n",
    "    for model in all_models:\n",
    "        model_predictions.append(\n",
    "            model.predict(states)\n",
    "        )\n",
    "    predictions = np.mean(model_predictions, axis=0)\n",
    "\n",
    "    score = mean_squared_error(\n",
    "                testing_output[start:end, 1:],\n",
    "                predictions, \n",
    "                multioutput='raw_values')\n",
    "\n",
    "    if comparison[comparison.shot == shot_number[0]]['variable'].values[0] == 'disrupt':\n",
    "        disrupt_errors.append(\n",
    "           score\n",
    "        )\n",
    "        disrupt_predictions.append(\n",
    "            predictions\n",
    "        )\n",
    "        disrupt_true_values.append(\n",
    "            testing_output[start:end, 1:]\n",
    "        )\n",
    "\n",
    "\n",
    "    if comparison[comparison.shot == shot_number[0]]['variable'].values[0] == 'no_disrupt':\n",
    "        non_disrupt_errors.append(\n",
    "           score\n",
    "        )\n",
    "        non_disrupt_predictions.append(\n",
    "            predictions\n",
    "        )\n",
    "        non_disrupt_true_values.append(\n",
    "            testing_output[start:end, 1:]\n",
    "        )"
   ]
  },
  {
   "cell_type": "code",
   "execution_count": 1027,
   "id": "538c9b01",
   "metadata": {},
   "outputs": [
    {
     "name": "stdout",
     "output_type": "stream",
     "text": [
      "disrupt mse:  1.0099294192612156\n",
      "non disrupt mse:  1.2738493125202142\n"
     ]
    }
   ],
   "source": [
    "print('disrupt mse: ', np.mean(disrupt_errors))\n",
    "print('non disrupt mse: ', np.mean(non_disrupt_errors))"
   ]
  },
  {
   "cell_type": "code",
   "execution_count": 5,
   "id": "9d3339bd",
   "metadata": {
    "scrolled": false
   },
   "outputs": [],
   "source": [
    "# for i in range(len(disrupt_predictions)):\n",
    "#     y_pred_zero = pd.DataFrame(disrupt_predictions[i][:, 0], columns=['ip'])    \n",
    "#     y_true_zero = pd.DataFrame(disrupt_true_values[i][:, 0], columns=['ip'])    \n",
    "    \n",
    "#     plt.plot(y_pred_zero, label='pred', color='red')\n",
    "#     plt.plot(y_true_zero, label='true', color='blue')\n",
    "\n",
    "#     plt.legend()\n",
    "#     plt.title('ip')\n",
    "#     plt.show();"
   ]
  },
  {
   "cell_type": "code",
   "execution_count": 6,
   "id": "e038d295",
   "metadata": {
    "scrolled": false
   },
   "outputs": [],
   "source": [
    "# for i in range(len(non_disrupt_predictions)):\n",
    "#     y_pred_zero = pd.DataFrame(non_disrupt_predictions[i][:, 0], columns=['ip'])    \n",
    "#     y_true_zero = pd.DataFrame(non_disrupt_true_values[i][:, 0], columns=['ip'])    \n",
    "    \n",
    "#     plt.plot(y_pred_zero, label='pred', color='red')\n",
    "#     plt.plot(y_true_zero, label='true', color='blue')\n",
    "\n",
    "#     plt.legend()\n",
    "#     plt.title('ip')\n",
    "#     plt.show();"
   ]
  },
  {
   "cell_type": "code",
   "execution_count": null,
   "id": "b7005ff7",
   "metadata": {},
   "outputs": [],
   "source": []
  },
  {
   "cell_type": "code",
   "execution_count": null,
   "id": "961579f0",
   "metadata": {},
   "outputs": [],
   "source": []
  },
  {
   "cell_type": "code",
   "execution_count": null,
   "id": "1164beac",
   "metadata": {},
   "outputs": [],
   "source": []
  },
  {
   "cell_type": "code",
   "execution_count": null,
   "id": "c65f5b5d",
   "metadata": {},
   "outputs": [],
   "source": []
  },
  {
   "cell_type": "code",
   "execution_count": null,
   "id": "89a33f90",
   "metadata": {},
   "outputs": [],
   "source": []
  },
  {
   "cell_type": "code",
   "execution_count": null,
   "id": "398afe10",
   "metadata": {},
   "outputs": [],
   "source": []
  },
  {
   "cell_type": "code",
   "execution_count": null,
   "id": "a329a78d",
   "metadata": {},
   "outputs": [],
   "source": []
  },
  {
   "cell_type": "code",
   "execution_count": null,
   "id": "f97055a3",
   "metadata": {},
   "outputs": [],
   "source": []
  },
  {
   "cell_type": "code",
   "execution_count": null,
   "id": "aa2f69a1",
   "metadata": {},
   "outputs": [],
   "source": []
  },
  {
   "cell_type": "code",
   "execution_count": null,
   "id": "c1c2f01b",
   "metadata": {},
   "outputs": [],
   "source": []
  },
  {
   "cell_type": "code",
   "execution_count": null,
   "id": "5744fec8",
   "metadata": {},
   "outputs": [],
   "source": []
  },
  {
   "cell_type": "code",
   "execution_count": null,
   "id": "f15f9858",
   "metadata": {},
   "outputs": [],
   "source": []
  }
 ],
 "metadata": {
  "kernelspec": {
   "display_name": "Python 3",
   "language": "python",
   "name": "python3"
  },
  "language_info": {
   "codemirror_mode": {
    "name": "ipython",
    "version": 3
   },
   "file_extension": ".py",
   "mimetype": "text/x-python",
   "name": "python",
   "nbconvert_exporter": "python",
   "pygments_lexer": "ipython3",
   "version": "3.8.8"
  }
 },
 "nbformat": 4,
 "nbformat_minor": 5
}
